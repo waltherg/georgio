{
 "cells": [
  {
   "cell_type": "markdown",
   "metadata": {},
   "source": [
    "# \"Causal inference for robust decision-making in data-driven companies\"\n",
    "> \"In this article I explore basic causal inference, how it differs from machine learning, and how it presents a path forward for robust decision-making in data-driven companies. Here, the ongoing coronavirus / COVID-19 pandemic provides an unfortunate but intriguing challenge to established machine learning applications in industry and enterprises that further rationalizes the need for causal inference methodologies.\"\n",
    "- published: false\n",
    "- toc: true\n",
    "- branch: master\n",
    "- badges: true\n",
    "- comments: true\n",
    "- categories: [causal inference, data-driven company]"
   ]
  },
  {
   "cell_type": "markdown",
   "metadata": {},
   "source": [
    "# The data-driven company"
   ]
  },
  {
   "cell_type": "markdown",
   "metadata": {},
   "source": [
    "# Machine learning for decision-making"
   ]
  },
  {
   "cell_type": "markdown",
   "metadata": {},
   "source": [
    "# Issues with machine learning as sole decision-making tool\n",
    "\n",
    "As we have seen, machine learning provides the means to learn relationships from and make decisions\n",
    "based on data samples.\n",
    "Of note here is that machine learning does not require us to have an understanding of the causal relationships\n",
    "underlying our data sample.\n",
    "\n",
    "This is both a blessing and a curse: Oftentimes it can be straightforward to build machine learning algorithms, such as classification and regression, that produce predictions based on patterns in our data that may be so complex that a human would never uncover them.\n",
    "However, machine learning algorithms can only uncover and predict patterns that are present in our sample data.\n",
    "\n",
    "Likely none of the data collected after the 1930s, [following the Spanish Flu and the Great Depression](https://www.forbes.com/sites/petercohan/2020/04/06/how-covid-19-crunch-compares-to-spanish-flu-great-depression), reflect patterns found in sample data since the onset of the global coronavirus pandemic.\n",
    "\n",
    "Hence, predictions based solely on sample data and produced and entirely with machine learning algorithms will likely be off.\n",
    "\n",
    "This of course depends on the context and specific problem we attempt to tackle with machine learning:\n",
    "A machine learning classifier that distinguished traffic signs to help autonomous cars make sensible decisions is not likely to be impacted by the ongoing pandemic - while algorithms that predict market indicators, customer behavior, product demand, or supply chain behavior are probbly heavily impacted.\n",
    "\n",
    "So what do we need to really leverage machine learning and our vast amounts of data?\n",
    "\n",
    "We need a clear understanding of the cause-effect relationships underlying the processes and systems that produce our data and we need to enhance our machine learning algorithms with that understanding."
   ]
  },
  {
   "cell_type": "markdown",
   "metadata": {},
   "source": [
    "# Causal inference"
   ]
  },
  {
   "cell_type": "markdown",
   "metadata": {},
   "source": [
    "# Causal inference for decision-making"
   ]
  }
 ],
 "metadata": {
  "kernelspec": {
   "display_name": "Python 3",
   "language": "python",
   "name": "python3"
  },
  "language_info": {
   "codemirror_mode": {
    "name": "ipython",
    "version": 3
   },
   "file_extension": ".py",
   "mimetype": "text/x-python",
   "name": "python",
   "nbconvert_exporter": "python",
   "pygments_lexer": "ipython3",
   "version": "3.7.4"
  }
 },
 "nbformat": 4,
 "nbformat_minor": 2
}
