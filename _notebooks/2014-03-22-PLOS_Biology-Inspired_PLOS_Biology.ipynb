{
 "metadata": {
  "name": ""
 },
 "nbformat": 3,
 "nbformat_minor": 0,
 "worksheets": [
  {
   "cells": [
    {
     "cell_type": "heading",
     "level": 1,
     "metadata": {},
     "source": [
      "PLOS Biology-Inspired PLOS Biology Articles"
     ]
    },
    {
     "cell_type": "markdown",
     "metadata": {},
     "source": [
      "This past week I had my first encounter with the concept of [graph databases](https://en.wikipedia.org/wiki/Graph_database)\n",
      "which lend themselves perfectly to modeling and capturing linked data.\n",
      "\n",
      "I started reading the free and brilliant book [Graph Databases](http://www.graphdatabases.com/) by Robinson, Webber, and Eifrem and\n",
      "began playing around with [Python bulbs](http://bulbflow.com/) by James Thornton.\n",
      "\n",
      "I further took the data set of 1754 PLOS Biology articles that I have examined on this blog multiple times and created a\n",
      "[Rexster](https://github.com/tinkerpop/rexster/wiki)-based graph database from them.\n",
      "Apart from the obvious authors, DOIs, and titles I also extracted references to other PLOS Biology articles.\n",
      "\n",
      "In this blog post I will examine these links between PLOS Biology articles.\n",
      "\n",
      "Let us first take a look at my database to get an idea of what this looks like."
     ]
    },
    {
     "cell_type": "code",
     "collapsed": false,
     "input": [
      "%matplotlib inline\n",
      "from matplotlib import pyplot"
     ],
     "language": "python",
     "metadata": {},
     "outputs": [],
     "prompt_number": 21
    },
    {
     "cell_type": "code",
     "collapsed": false,
     "input": [
      "from bulbs.rexster import Graph, Config, REXSTER_URI"
     ],
     "language": "python",
     "metadata": {},
     "outputs": [],
     "prompt_number": 1
    },
    {
     "cell_type": "code",
     "collapsed": false,
     "input": [
      "REXSTER_URI = 'http://localhost:8182/graphs/plos'\n",
      "config = Config(REXSTER_URI)"
     ],
     "language": "python",
     "metadata": {},
     "outputs": [],
     "prompt_number": 2
    },
    {
     "cell_type": "code",
     "collapsed": false,
     "input": [
      "g = Graph(config)"
     ],
     "language": "python",
     "metadata": {},
     "outputs": [],
     "prompt_number": 3
    },
    {
     "cell_type": "markdown",
     "metadata": {},
     "source": [
      "The label `g` now holds a reference to our graph database."
     ]
    },
    {
     "cell_type": "markdown",
     "metadata": {},
     "source": [
      "Python bulbs allows us to define classes for our data model which is something I did when creating this graph database in the first place.\n",
      "These are the node (vertex) types and edge (relationship) types I defined:"
     ]
    },
    {
     "cell_type": "code",
     "collapsed": false,
     "input": [
      "# Bulbs Models\n",
      "from bulbs.model import Node, Relationship\n",
      "from bulbs.property import String, Integer, DateTime, List\n",
      "\n",
      "class Author(Node):\n",
      "    element_type = 'author'\n",
      "    name = String(nullable=False)\n",
      "    \n",
      "class Article(Node):\n",
      "    element_type = 'article'\n",
      "    title = String(nullable=False)\n",
      "    published = DateTime()\n",
      "    doi = String()\n",
      "    \n",
      "class Authorship(Relationship):\n",
      "    label = 'authored'\n",
      "\n",
      "class Citation(Relationship):\n",
      "    label = 'cites'\n",
      "    reference_count = Integer(nullable=False)\n",
      "    tag = String()"
     ],
     "language": "python",
     "metadata": {},
     "outputs": [],
     "prompt_number": 4
    },
    {
     "cell_type": "markdown",
     "metadata": {},
     "source": [
      "This is a very basic model of PLOS Biology articles that captures nothing more than authorship (edges between authors and articles) and\n",
      "citations (edges between articles).\n",
      "\n",
      "Some of these concepts can and should probably be decorated further: for instance `Authorship` edges could include author contributions (as provided at the bottom of most PLOS Biology articles)."
     ]
    },
    {
     "cell_type": "code",
     "collapsed": false,
     "input": [
      "g.add_proxy('authors', Author)\n",
      "g.add_proxy('articles', Article)\n",
      "g.add_proxy('authored', Authorship)\n",
      "g.add_proxy('cites', Citation)"
     ],
     "language": "python",
     "metadata": {},
     "outputs": [],
     "prompt_number": 5
    },
    {
     "cell_type": "markdown",
     "metadata": {},
     "source": [
      "Usually we would use Rexster/Bulbs-builtin functions that rely on some internal index but since that index seems to be broken for me right now\n",
      "I will simply collect all nodes and edges by hand and create Python dictionaries as indeces.\n",
      "\n",
      "This is okay here to do since our database is very small but would likely be prohibitive for anything marginally bigger."
     ]
    },
    {
     "cell_type": "code",
     "collapsed": false,
     "input": [
      "nodes = g.V\n",
      "edges = g.E"
     ],
     "language": "python",
     "metadata": {},
     "outputs": [],
     "prompt_number": 6
    },
    {
     "cell_type": "code",
     "collapsed": false,
     "input": [
      "authors = {n.name: n for n in nodes if n.element_type == 'author'}"
     ],
     "language": "python",
     "metadata": {},
     "outputs": [],
     "prompt_number": 7
    },
    {
     "cell_type": "code",
     "collapsed": false,
     "input": [
      "authors.keys()[:10]"
     ],
     "language": "python",
     "metadata": {},
     "outputs": [
      {
       "metadata": {},
       "output_type": "pyout",
       "prompt_number": 8,
       "text": [
        "[u'Shuguang Zhang',\n",
        " u'Ernst Hafen',\n",
        " u'Maren Brockmeyer',\n",
        " u'Bruno Eschli',\n",
        " u'David B. Gurevich',\n",
        " u'Michael Lynch',\n",
        " u'Alejandro Valbuena',\n",
        " u'Claudia Rutte',\n",
        " u'Matthew M Wyatt',\n",
        " u'Brianna B. Williams']"
       ]
      }
     ],
     "prompt_number": 8
    },
    {
     "cell_type": "code",
     "collapsed": false,
     "input": [
      "articles = {n.doi: n for n in nodes if n.element_type == 'article'}"
     ],
     "language": "python",
     "metadata": {},
     "outputs": [],
     "prompt_number": 9
    },
    {
     "cell_type": "code",
     "collapsed": false,
     "input": [
      "articles.keys()[:10]"
     ],
     "language": "python",
     "metadata": {},
     "outputs": [
      {
       "metadata": {},
       "output_type": "pyout",
       "prompt_number": 10,
       "text": [
        "[u'10.1371/journal.pbio.0040216',\n",
        " u'10.1371/journal.pbio.0040215',\n",
        " u'10.1371/journal.pbio.0040210',\n",
        " u'10.1371/journal.pbio.0040368',\n",
        " u'10.1371/journal.pbio.0040369',\n",
        " u'10.1371/journal.pbio.0040362',\n",
        " u'10.1371/journal.pbio.0040363',\n",
        " u'10.1371/journal.pbio.0040360',\n",
        " u'10.1371/journal.pbio.0020275',\n",
        " u'10.1371/journal.pbio.0040366']"
       ]
      }
     ],
     "prompt_number": 10
    },
    {
     "cell_type": "markdown",
     "metadata": {},
     "source": [
      "Let us now do a brief sanity check and count the number of PLOS Biology articles in our data set (this should equal 1754)."
     ]
    },
    {
     "cell_type": "code",
     "collapsed": false,
     "input": [
      "len(articles.keys())"
     ],
     "language": "python",
     "metadata": {},
     "outputs": [
      {
       "metadata": {},
       "output_type": "pyout",
       "prompt_number": 11,
       "text": [
        "1754"
       ]
      }
     ],
     "prompt_number": 11
    },
    {
     "cell_type": "markdown",
     "metadata": {},
     "source": [
      "Let us now pick an article at random and see how this article is connected to the remainder of the graph."
     ]
    },
    {
     "cell_type": "code",
     "collapsed": false,
     "input": [
      "article = articles['10.1371/journal.pbio.1000584']"
     ],
     "language": "python",
     "metadata": {},
     "outputs": [],
     "prompt_number": 12
    },
    {
     "cell_type": "markdown",
     "metadata": {},
     "source": [
      "This is the title of `article`:"
     ]
    },
    {
     "cell_type": "code",
     "collapsed": false,
     "input": [
      "article.title"
     ],
     "language": "python",
     "metadata": {},
     "outputs": [
      {
       "metadata": {},
       "output_type": "pyout",
       "prompt_number": 13,
       "text": [
        "u'Clusters of Temporal Discordances Reveal Distinct Embryonic Patterning Mechanisms in Drosophila and Anopheles'"
       ]
      }
     ],
     "prompt_number": 13
    },
    {
     "cell_type": "markdown",
     "metadata": {},
     "source": [
      "These are the edges pointing to this article:"
     ]
    },
    {
     "cell_type": "code",
     "collapsed": false,
     "input": [
      "list(article.inE())"
     ],
     "language": "python",
     "metadata": {},
     "outputs": [
      {
       "metadata": {},
       "output_type": "pyout",
       "prompt_number": 14,
       "text": [
        "[<Authorship: http://localhost:8182/graphs/plos/edges/21895>,\n",
        " <Authorship: http://localhost:8182/graphs/plos/edges/21893>,\n",
        " <Authorship: http://localhost:8182/graphs/plos/edges/21891>]"
       ]
      }
     ],
     "prompt_number": 14
    },
    {
     "cell_type": "markdown",
     "metadata": {},
     "source": [
      "There are three `Authorship` edges that point to this specific article.\n",
      "\n",
      "To get the node at the *base* of a directed edge we can either query `article.inE().inV()` (i.e. the *in-node* of this edge)\n",
      "or simply ask for the *in-node* of the `article` node straight away - this should be equivalent!"
     ]
    },
    {
     "cell_type": "code",
     "collapsed": false,
     "input": [
      "for author in article.inV():\n",
      "    print author.name"
     ],
     "language": "python",
     "metadata": {},
     "outputs": [
      {
       "output_type": "stream",
       "stream": "stdout",
       "text": [
        "Yury Goltsev\n",
        "Michael Levine\n",
        "Dmitri Papatsenko\n"
       ]
      }
     ],
     "prompt_number": 15
    },
    {
     "cell_type": "markdown",
     "metadata": {},
     "source": [
      "A quick check online confirms that these are indeed the authors of `article`."
     ]
    },
    {
     "cell_type": "markdown",
     "metadata": {},
     "source": [
      "As I mentioned above, I also collected all references to other PLOS Biology articles in my data set and modeled those as `Citation` relationships (edges) between articles.\n",
      "\n",
      "The `article` we are currently looking at has one such out-edge to another PLOS Biology article:"
     ]
    },
    {
     "cell_type": "code",
     "collapsed": false,
     "input": [
      "list(article.outE())"
     ],
     "language": "python",
     "metadata": {},
     "outputs": [
      {
       "metadata": {},
       "output_type": "pyout",
       "prompt_number": 16,
       "text": [
        "[<Citation: http://localhost:8182/graphs/plos/edges/29290>]"
       ]
      }
     ],
     "prompt_number": 16
    },
    {
     "cell_type": "code",
     "collapsed": false,
     "input": [
      "for citation in article.outV():\n",
      "    print citation.title\n",
      "    print [n.name for n in citation.inV() if n.element_type == 'author']\n",
      "    print citation.doi"
     ],
     "language": "python",
     "metadata": {},
     "outputs": [
      {
       "output_type": "stream",
       "stream": "stdout",
       "text": [
        "The Cell Cycle\u2013Regulated Genes of Schizosaccharomyces pombe\n",
        "[u'Saumyadipta Pyne', u'Janet Leatherwood', u'Anna Oliva', u'Bruce Futcher', u'Adam Rosebrock', u'Steve Skiena', u'Francisco Ferrezuelo', u'Haiying Chen']\n",
        "10.1371/journal.pbio.0030225\n"
       ]
      }
     ],
     "prompt_number": 17
    },
    {
     "cell_type": "markdown",
     "metadata": {},
     "source": [
      "As you can see above, querying our database for the authors of the PLOS Biology article that our current article (`article`) cites is simple."
     ]
    },
    {
     "cell_type": "markdown",
     "metadata": {},
     "source": [
      "How many PLOS Biology articles in our data set of 1754 articles cite other PLOS Biology articles?\n",
      "\n",
      "(caveat: this only represents those citations that I detected when parsing my set of articles)"
     ]
    },
    {
     "cell_type": "code",
     "collapsed": false,
     "input": [
      "sum(1 for n in nodes if n.element_type == 'article' and n.outV() > 0)"
     ],
     "language": "python",
     "metadata": {},
     "outputs": [
      {
       "metadata": {},
       "output_type": "pyout",
       "prompt_number": 18,
       "text": [
        "526"
       ]
      }
     ],
     "prompt_number": 18
    },
    {
     "cell_type": "markdown",
     "metadata": {},
     "source": [
      "I did not only extract citation edges between PLOS Biology articles but also counted how often such a citation occurs in the body of the article.\n",
      "\n",
      "For our `article` and its one cited PLOS Biology article I counted:"
     ]
    },
    {
     "cell_type": "code",
     "collapsed": false,
     "input": [
      "for citation in article.outE():\n",
      "    print citation.reference_count"
     ],
     "language": "python",
     "metadata": {},
     "outputs": [
      {
       "output_type": "stream",
       "stream": "stdout",
       "text": [
        "2\n"
       ]
      }
     ],
     "prompt_number": 19
    },
    {
     "cell_type": "markdown",
     "metadata": {},
     "source": [
      "Just to verify this, look up `article` online (DOI = 10.1371/journal.pbio.0030225) and look for reference *[4]* which corresponds to this one cited PLOS Biology article."
     ]
    },
    {
     "cell_type": "markdown",
     "metadata": {},
     "source": [
      "Let us now take a look at the observed distribution of how often cited PLOS Biology articles are referenced in the main text of the citing PLOS Biology article."
     ]
    },
    {
     "cell_type": "code",
     "collapsed": false,
     "input": [
      "citation_counts = []\n",
      "for doi in articles.keys():\n",
      "    if articles[doi].outE():\n",
      "        for e in articles[doi].outE():\n",
      "            if e.label == 'cites':\n",
      "                citation_counts.append(e.reference_count)"
     ],
     "language": "python",
     "metadata": {},
     "outputs": [],
     "prompt_number": 23
    },
    {
     "cell_type": "code",
     "collapsed": false,
     "input": [
      "pyplot.hist(citation_counts, bins=range(20))\n",
      "pyplot.xlabel('number of times cited')\n",
      "pyplot.ylabel('count')"
     ],
     "language": "python",
     "metadata": {},
     "outputs": [
      {
       "metadata": {},
       "output_type": "pyout",
       "prompt_number": 28,
       "text": [
        "<matplotlib.text.Text at 0x9a293d0>"
       ]
      },
      {
       "metadata": {},
       "output_type": "display_data",
       "png": "[encoded data removed]",
       "text": [
        "<matplotlib.figure.Figure at 0x99f8390>"
       ]
      }
     ],
     "prompt_number": 28
    },
    {
     "cell_type": "markdown",
     "metadata": {},
     "source": [
      "This histogram has a surprisingly long tail. Let us take a look at some of the bigger values to see if these make sense."
     ]
    },
    {
     "cell_type": "code",
     "collapsed": false,
     "input": [
      "def article_pp(article):\n",
      "    authors = unicode(', '.join([n.name for n in article.inV() if n.element_type == 'author']))\n",
      "    s = ('Title: %s\\n'\n",
      "        'Authors: %s\\n'\n",
      "        'DOI: %s' % (article.title, authors, article.doi))\n",
      "    \n",
      "    return s"
     ],
     "language": "python",
     "metadata": {},
     "outputs": [],
     "prompt_number": 69
    },
    {
     "cell_type": "code",
     "collapsed": false,
     "input": [
      "for edge in edges:\n",
      "    if edge.label == 'cites':\n",
      "        if edge.reference_count >= 21:\n",
      "            print('Citer:')\n",
      "            print(article_pp(edge.outV()))\n",
      "            print('')\n",
      "            print('Citee')\n",
      "            print(article_pp(edge.inV()))\n",
      "            print('')\n",
      "            print('Citer cites citee %d times.' % edge.reference_count)\n",
      "            print('-----------------------------------------------------')"
     ],
     "language": "python",
     "metadata": {},
     "outputs": [
      {
       "output_type": "stream",
       "stream": "stdout",
       "text": [
        "Citer:\n",
        "Title: A Feedback Loop between Dynamin and Actin Recruitment during Clathrin-Mediated Endocytosis\n",
        "Authors: Marko Lampe, Christien J. Merrifield, Marcus J. Taylor\n",
        "DOI: 10.1371/journal.pbio.1001302\n",
        "\n",
        "Citee\n",
        "Title: A High Precision Survey of the Molecular Dynamics of Mammalian Clathrin-Mediated Endocytosis\n",
        "Authors: Marcus J. Taylor, David Perrais, Christien J. Merrifield\n",
        "DOI: 10.1371/journal.pbio.1000604\n",
        "\n",
        "Citer cites citee 21 times.\n",
        "-----------------------------------------------------\n",
        "Citer:\n",
        "Title: H2A.Z-Mediated Localization of Genes at the Nuclear Periphery Confers Epigenetic Memory of Previous Transcriptional State \n",
        "Authors: Yvonne Fondufe-Mittendorf, Sara Ahmed, Jason H Brickner, Donna Garvey Brickner, Jonathan Widom, Ivelisse Cajigas, Pei-Chih Lee\n",
        "DOI: 10.1371/journal.pbio.0050081\n",
        "\n",
        "Citee\n",
        "Title: Gene Recruitment of the Activated INO1 Locus to the Nuclear Membrane\n",
        "Authors: Peter Walter, Jason H Brickner\n",
        "DOI: 10.1371/journal.pbio.0020342\n",
        "\n",
        "Citer cites citee 21 times.\n",
        "-----------------------------------------------------\n"
       ]
      }
     ],
     "prompt_number": 75
    },
    {
     "cell_type": "markdown",
     "metadata": {},
     "source": [
      "Checking these by hand we verify that our counts are correct."
     ]
    },
    {
     "cell_type": "markdown",
     "metadata": {},
     "source": [
      "I think it is sensible to postulate that the more often one article cites another one, the more heavily the work presented in the *citer* was influenced by the *citee*.\n",
      "\n",
      "There is certainly some cut-off at which *importance* stops increasing - my point is simply that citing another article multiple times in your manuscript probably means that you are basing your work at least partially on the article you cite."
     ]
    },
    {
     "cell_type": "markdown",
     "metadata": {},
     "source": [
      "In the above list we can already see that one article titled *A sex-ratio Meiotic Drive System in Drosophila simulans. II: An X-linked Distorter* is a clear follow-up to the article titled *A sex-ratio Meiotic Drive System in Drosophila simulans. I: An Autosomal Suppressor*."
     ]
    },
    {
     "cell_type": "markdown",
     "metadata": {},
     "source": [
      "One question I am interested in is: How inspired are authors by their own work (generally *very inspired* I would presume), and how inspiring are articles to a completely different group of authors?"
     ]
    },
    {
     "cell_type": "markdown",
     "metadata": {},
     "source": [
      "In my opinion, if one group of authors inspires a completely different group of authors to carry out scientific work (be it to follw up, refute, or whatever) then that defines *knowledge transfer* and a point at which scientific knowledge really becomes worth the time and resources it cost to produce this knowledge in the first place.\n",
      "\n",
      "(I am certain this statement can be refined further but roughly speaking this is what I think)"
     ]
    },
    {
     "cell_type": "markdown",
     "metadata": {},
     "source": [
      "Let us redo the above histogram but exclude all cited PLOS Biology articles that have one or more authors in common with the citing article.\n",
      "\n",
      "(one more bracketed caveat: When constructing my database I assumed that every author name occurs exactly once and is therefore unique - this is a heuristic that breaks easily)"
     ]
    },
    {
     "cell_type": "code",
     "collapsed": false,
     "input": [
      "def are_different_authors(article_1, article_2):\n",
      "    authors_1 = []\n",
      "    authors_2 = []\n",
      "    \n",
      "    for n in article_1.inV():\n",
      "        if n.element_type == 'author':\n",
      "            authors_1.append(n.name)\n",
      "    for n in article_2.inV():\n",
      "        if n.element_type == 'author':\n",
      "            authors_2.append(n.name)\n",
      "            \n",
      "    authors_1 = set(authors_1)\n",
      "    authors_2 = set(authors_2)\n",
      "    \n",
      "    return len(authors_1.intersection(authors_2)) == 0\n"
     ],
     "language": "python",
     "metadata": {},
     "outputs": [],
     "prompt_number": 63
    },
    {
     "cell_type": "code",
     "collapsed": false,
     "input": [
      "citation_counts = []\n",
      "\n",
      "for edge in edges:\n",
      "    if edge.label == 'cites':\n",
      "        if are_different_authors(edge.inV(), edge.outV()):\n",
      "            citation_counts.append(edge.reference_count)"
     ],
     "language": "python",
     "metadata": {},
     "outputs": [],
     "prompt_number": 64
    },
    {
     "cell_type": "code",
     "collapsed": false,
     "input": [
      "pyplot.hist(citation_counts, bins=range(20))\n",
      "pyplot.xlabel('number of times cited')\n",
      "pyplot.ylabel('count')"
     ],
     "language": "python",
     "metadata": {},
     "outputs": [
      {
       "metadata": {},
       "output_type": "pyout",
       "prompt_number": 65,
       "text": [
        "<matplotlib.text.Text at 0xaa25310>"
       ]
      },
      {
       "metadata": {},
       "output_type": "display_data",
       "png": "[encoded data removed]",
       "text": [
        "<matplotlib.figure.Figure at 0x9a21c50>"
       ]
      }
     ],
     "prompt_number": 65
    },
    {
     "cell_type": "markdown",
     "metadata": {},
     "source": [
      "This histogram does not look very different from the one above.\n",
      "\n",
      "Let us take a look at data points in the tail:"
     ]
    },
    {
     "cell_type": "code",
     "collapsed": false,
     "input": [
      "for edge in edges:\n",
      "    if edge.label == 'cites':\n",
      "        if edge.reference_count >= 16 and are_different_authors(edge.inV(), edge.outV()):\n",
      "            print('Citer:')\n",
      "            print(article_pp(edge.outV()))\n",
      "            print('')\n",
      "            print('Citee')\n",
      "            print(article_pp(edge.inV()))\n",
      "            print('')\n",
      "            print('Citer cites citee %d times.' % edge.reference_count)\n",
      "            print('-----------------------------------------------------')"
     ],
     "language": "python",
     "metadata": {},
     "outputs": [
      {
       "output_type": "stream",
       "stream": "stdout",
       "text": [
        "Citer:\n",
        "Title: Lack of Support for the Association between GAD2 Polymorphisms and Severe Human Obesity\n",
        "Authors: Frank Geller, John P Kane, Raphael Merriman, Christian Vaisse, Winfried Rief, Robert Dent, Johannes Hebebrand, Bj\u00f6rn Waldenmaier, Franck Mauvais-Jarvis, Anke Hinney, Michael M Swarbrick, Clive R Pullinger, Mary Malloy, Len A Pennacchio, Anna Ustaszewska, Denise L Lind, Wen-Chi Hsueh, Ruth McPherson, Martha M Cavazos, Andr\u00e9 Scherag, Pui-Yan Kwok\n",
        "DOI: 10.1371/journal.pbio.0030315\n",
        "\n",
        "Citee\n",
        "Title: GAD2 on Chromosome 10p12 Is a Candidate Gene for Human Obesity\n",
        "Authors: Lynn Bekris, Val\u00e9rie Vasseur-Delannoy, Philippe Boutin, Karin S\u00e9ron, Philippe Froguel, Mohamed Chikri, Christian Dina, Laetitia Corset, M. Aline Charles, S\u00e9verine Dubois, Francis Vasseur, Janice Cabellon, Ake Lernmark, Bernadette Neve, Karine Clement\n",
        "DOI: 10.1371/journal.pbio.0000068\n",
        "\n",
        "Citer cites citee 17 times.\n",
        "-----------------------------------------------------\n",
        "Citer:\n",
        "Title: Structural Basis of Rap Phosphatase Inhibition by Phr Peptides\n",
        "Authors: Alberto Marina, Francisca Gallego del Sol\n",
        "DOI: 10.1371/journal.pbio.1001511\n",
        "\n",
        "Citee\n",
        "Title: Structural Basis of Response Regulator Inhibition by a Bacterial Anti-Activator Protein\n",
        "Authors: Matthew B. Neiditch, Melinda D. Baker\n",
        "DOI: 10.1371/journal.pbio.1001226\n",
        "\n",
        "Citer cites citee 16 times.\n",
        "-----------------------------------------------------\n"
       ]
      }
     ],
     "prompt_number": 74
    },
    {
     "cell_type": "markdown",
     "metadata": {},
     "source": [
      "As we can see the two article pairs in the tail of this updated distribution are linked with lower reference counts than what we observed before filtering for author disjointedness."
     ]
    },
    {
     "cell_type": "markdown",
     "metadata": {},
     "source": [
      "Now, how inspiring are PLOS Biology authors for other (different) PLOS Biology authors?\n",
      "\n",
      "To answer this question, I would like to propose a measure that I have called **Inspiration Factor** in my own head for some time now and one variant of the model I have had in mind is this:\n",
      "\n",
      "Inspiration is an increasing function of the number of authors (unrelated to you) that you inspired to carry out scientific work.\n",
      "\n",
      "Since I do not want to count citations that are mentioned only once in the main text of an article, I will impose a threshold of at least *three references*.\n",
      "\n",
      "I should refine the way I parse articles to account for the context that citations are referenced in.\n",
      "\n",
      "Anyways, let us take a look at those PLOS Biology articles that have inspired at least three other PLOS Biology articles."
     ]
    },
    {
     "cell_type": "code",
     "collapsed": false,
     "input": [
      "inspirators = []\n",
      "\n",
      "for article in articles.values():\n",
      "    in_nodes = []\n",
      "    if article.inE():\n",
      "        for edge in article.inE():\n",
      "            if edge.label == 'cites':\n",
      "                if are_different_authors(edge.inV(), edge.outV()) and edge.reference_count >= 3:\n",
      "                    in_nodes.append([edge.outV(), edge.reference_count])\n",
      "                    \n",
      "    if len(in_nodes) >= 3:\n",
      "        inspirators.append([article, in_nodes])"
     ],
     "language": "python",
     "metadata": {},
     "outputs": [],
     "prompt_number": 99
    },
    {
     "cell_type": "code",
     "collapsed": false,
     "input": [
      "len(inspirators)"
     ],
     "language": "python",
     "metadata": {},
     "outputs": [
      {
       "metadata": {},
       "output_type": "pyout",
       "prompt_number": 100,
       "text": [
        "2"
       ]
      }
     ],
     "prompt_number": 100
    },
    {
     "cell_type": "code",
     "collapsed": false,
     "input": [
      "for inspirator in inspirators:\n",
      "    print('Inspirator')\n",
      "    print article_pp(inspirator[0])\n",
      "    print('')\n",
      "    for el in inspirator[1]:\n",
      "        print('Inspired Article')\n",
      "        print article_pp(el[0])\n",
      "        print('Cites inspirator %d times.' % el[1])\n",
      "        print('')\n",
      "    print('--------------------------------------')\n",
      "    print('')"
     ],
     "language": "python",
     "metadata": {},
     "outputs": [
      {
       "output_type": "stream",
       "stream": "stdout",
       "text": [
        "Inspirator\n",
        "Title: The Evolution of Combinatorial Gene Regulation in Fungi\n",
        "Authors: Alexander D Johnson, Aaron D Hernday, Hao Li, Brian B Tuch, David J Galgoczy\n",
        "DOI: 10.1371/journal.pbio.0060038\n",
        "\n",
        "Inspired Article\n",
        "Title: Biofilm Matrix Regulation by Candida albicans Zap1\n",
        "Authors: Oliver R. Homann, Clarissa J. Nobile, Jean-Sebastien Deneault, Aaron P. Mitchell, Andre Nantel, Aaron D. Hernday, David R. Andes, Jeniel E. Nett, Alexander D. Johnson\n",
        "DOI: 10.1371/journal.pbio.1000133\n",
        "Cites inspirator 3 times.\n",
        "\n",
        "Inspired Article\n",
        "Title: Evolutionary Tinkering with Conserved Components of a Transcriptional Regulatory Network\n",
        "Authors: Jaideep Mallick, Adnane Sellam, Hugo Lavoie, Herv\u00e9 Hogues, Malcolm Whiteway, Andr\u00e9 Nantel\n",
        "DOI: 10.1371/journal.pbio.1000329\n",
        "Cites inspirator 6 times.\n",
        "\n",
        "Inspired Article\n",
        "Title: Evolution of Phosphoregulation: Comparison of Phosphorylation Patterns across Yeast Species\n",
        "Authors: Assen Roguev, Dorothea Fiedler, Jonathan C. Trinidad, Wendell A. Lim, Pedro Beltrao, Kevan M. Shokat, Alma L. Burlingame, Nevan J. Krogan\n",
        "DOI: 10.1371/journal.pbio.1000134\n",
        "Cites inspirator 3 times.\n",
        "\n",
        "--------------------------------------\n",
        "\n",
        "Inspirator\n",
        "Title: Transcription Factors Bind Thousands of Active and Inactive Regions in the Drosophila Blastoderm \n",
        "Authors: Lisa Simirenko, Michael B Eisen, Mark Stapleton, Richard Weiszmann, Cris L. Luengo Hendriks, Tom Gingeras, Amy Beaton, Hou Cheng Chu, Xiao-yong Li, Terence P Speed, Victor Sementchenko, Mark D Biggin, Richard Bourgon, Stewart MacArthur, William Inwood, Susan E Celniker, Nobuo Ogawa, Venky N Iyer, David W Knowles, Daniel A Pollard, David Nix, Aaron Hechmer\n",
        "DOI: 10.1371/journal.pbio.0060027\n",
        "\n",
        "Inspired Article\n",
        "Title: Target Genes of the MADS Transcription Factor SEPALLATA3: Integration of Developmental and Hormonal Pathways in the Arabidopsis Flower\n",
        "Authors: Cezary Smaczniak, Kerstin Kaufmann, Pawel Krajewski, Ruy Jauregui, Chiara A Airoldi, Gerco C Angenent, Jose M Mui\u00f1o\n",
        "DOI: 10.1371/journal.pbio.1000090\n",
        "Cites inspirator 3 times.\n",
        "\n",
        "Inspired Article\n",
        "Title: Evolutionary Plasticity of Polycomb/Trithorax Response Elements in Drosophila Species\n",
        "Authors: Arne Hauenschild, Leonie Ringrose, Renato Paro, Christina Altmutter, Marc Rehmsmeier\n",
        "DOI: 10.1371/journal.pbio.0060261\n",
        "Cites inspirator 6 times.\n",
        "\n",
        "Inspired Article\n",
        "Title: Quantitative Analysis of the Drosophila Segmentation Regulatory Network Using Pattern Generating Potentials\n",
        "Authors: Sudhir Kumar, Susan E. Celniker, Ann S. Hammonds, Saurabh Sinha, Majid Kazemian, Charles Blatti, Noriko Wakabayashi-Ito, Scot A. Wolfe, Adam Richards, Michael McCutchan, Michael H. Brodsky\n",
        "DOI: 10.1371/journal.pbio.1000456\n",
        "Cites inspirator 7 times.\n",
        "\n",
        "--------------------------------------\n",
        "\n"
       ]
      }
     ],
     "prompt_number": 101
    },
    {
     "cell_type": "markdown",
     "metadata": {},
     "source": [
      "And that is it for now.\n",
      "\n",
      "I will expand my dataset to include more articles and think about how to enrich the data I extract from these articles.\n",
      "\n",
      "One question that I am very intrigued to tackle soon is: How long of a chain of scientific discovery do you trigger?\n",
      "\n",
      "I imagine that an article that lies at the beginning of a long chain of articles that inspired one another would have some significance."
     ]
    }
   ],
   "metadata": {}
  }
 ]
}