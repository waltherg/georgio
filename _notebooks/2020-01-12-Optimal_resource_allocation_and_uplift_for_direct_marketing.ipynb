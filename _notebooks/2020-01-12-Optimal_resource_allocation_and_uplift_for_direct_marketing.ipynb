{
 "cells": [
  {
   "cell_type": "markdown",
   "metadata": {
    "colab_type": "text",
    "id": "QOR44BU4eSXL"
   },
   "source": [
    "# \"Decision intelligence from historical observations for optimal marketing resource use\"\n",
    "> \"In this article we analyze direct marketing data and prototype a decision model to optimize future marketing uplift.\"\n",
    "- toc: true\n",
    "- branch: master\n",
    "- badges: true\n",
    "- comments: true\n",
    "- categories: [python, numpy, scikit-learn, marketing, causal inference, uplift]"
   ]
  },
  {
   "cell_type": "markdown",
   "metadata": {
    "colab_type": "text",
    "id": "__BD1X-cSZca"
   },
   "source": [
    "# Summary\n",
    "\n",
    "Marketing is a key success and revenue driver in B2C markets: An appropriate message placed at the appropriate time with a prospective customer will increase your business success.\n",
    "\n",
    "However, marketing is also a major cost driver for businesses: Marketing efforts that are too broad, target the wrong audience, or convey the wrong message waste resources.\n",
    "\n",
    "In the case of direct marketing via phone conversations a key cost factor is the amount of time a sales call agent spends with the prospective customer on the phone.\n",
    "\n",
    "In this article we explore, rudimentarily, direct marketing data of a Portuguese financial institution.\n",
    "\n",
    "We explore the relationship between call duration and success (purchase of offered financial product), and show that consideration of customer-specific factors influences how you should allocate your marketing resources.\n",
    "\n",
    "Our prototypical analysis can be usueful in devising **data-driven marketing and sales** strategies that offer **decision intelligence** for your call agents."
   ]
  },
  {
   "cell_type": "markdown",
   "metadata": {
    "colab_type": "text",
    "id": "h9e_0O4_h7dx"
   },
   "source": [
    "# Fetch the data\n",
    "\n",
    "For our prototype we use the openly accessible [Bank Marketing Data Set](https://archive.ics.uci.edu/ml/datasets/Bank+Marketing) from the [UC Irvine Machine Learning Repository](https://archive.ics.uci.edu/ml/index.php)."
   ]
  },
  {
   "cell_type": "code",
   "execution_count": 0,
   "metadata": {
    "colab": {},
    "colab_type": "code",
    "id": "nKWSqR1THSCQ"
   },
   "outputs": [],
   "source": [
    "!wget --quiet https://archive.ics.uci.edu/ml/machine-learning-databases/00222/bank.zip"
   ]
  },
  {
   "cell_type": "code",
   "execution_count": 0,
   "metadata": {
    "colab": {},
    "colab_type": "code",
    "id": "zwmNgeMHIp0f"
   },
   "outputs": [],
   "source": [
    "!unzip -oqq bank.zip"
   ]
  },
  {
   "cell_type": "markdown",
   "metadata": {
    "colab_type": "text",
    "id": "z-SvqPfjidsI"
   },
   "source": [
    "# Load Python libraries"
   ]
  },
  {
   "cell_type": "code",
   "execution_count": 0,
   "metadata": {
    "colab": {},
    "colab_type": "code",
    "id": "qVKANKKTHY1X"
   },
   "outputs": [],
   "source": [
    "import graphviz\n",
    "import numpy as np\n",
    "import pandas as pd\n",
    "import seaborn as sns\n",
    "from sklearn.cluster import KMeans\n",
    "from sklearn.preprocessing import LabelEncoder"
   ]
  },
  {
   "cell_type": "code",
   "execution_count": 0,
   "metadata": {
    "colab": {},
    "colab_type": "code",
    "id": "zOWn-K6ZYlF0"
   },
   "outputs": [],
   "source": [
    "np.random.seed(42)"
   ]
  },
  {
   "cell_type": "code",
   "execution_count": 0,
   "metadata": {
    "colab": {},
    "colab_type": "code",
    "id": "mYBQ_EusKMho"
   },
   "outputs": [],
   "source": [
    "#hide\n",
    "def gv(s):\n",
    "  return graphviz.Source('digraph G{ rankdir=\"LR\"' + s + '; }')"
   ]
  },
  {
   "cell_type": "markdown",
   "metadata": {
    "colab_type": "text",
    "id": "bftW4gdCilNi"
   },
   "source": [
    "# Prepare data\n",
    "\n",
    "The data we work with here contain a number of categorical and numerical variables. To keep our analysis and prototype simple we will focus on only a handful and remove the remainder."
   ]
  },
  {
   "cell_type": "code",
   "execution_count": 0,
   "metadata": {
    "colab": {},
    "colab_type": "code",
    "id": "Lvb5YZMyHagl"
   },
   "outputs": [],
   "source": [
    "#collapse\n",
    "df = pd.read_csv('bank.csv', delimiter=';')\n",
    "df['success'] = df['y']\n",
    "del df['y']\n",
    "df['success'] = df['success'].replace('no', 0)\n",
    "df['success'] = df['success'].replace('yes', 1)\n",
    "del df['education']\n",
    "del df['default']\n",
    "del df['housing']\n",
    "del df['loan']\n",
    "del df['contact']\n",
    "del df['day']\n",
    "del df['month']\n",
    "del df['campaign']\n",
    "del df['pdays']\n",
    "del df['previous']\n",
    "del df['poutcome']"
   ]
  },
  {
   "cell_type": "markdown",
   "metadata": {
    "colab_type": "text",
    "id": "tBHnyU9ui8Ie"
   },
   "source": [
    "Our tabular data set now looks as follows: Each prospective (and in some cases eventual) customer whom a call agent conversed with fills a row. On each row we have numerical variables (age, account balance, duration of sales interaction) and categorical variables (job / employment status and marital status). Our data set contains **4,521 sales interactions**."
   ]
  },
  {
   "cell_type": "code",
   "execution_count": 67,
   "metadata": {
    "colab": {
     "base_uri": "https://localhost:8080/",
     "height": 419
    },
    "colab_type": "code",
    "id": "hoCQSbLvHda9",
    "outputId": "6a6d9c42-0cb6-4ff8-f59c-a4aaec4f2991"
   },
   "outputs": [
    {
     "data": {
      "text/html": [
       "<div>\n",
       "<style scoped>\n",
       "    .dataframe tbody tr th:only-of-type {\n",
       "        vertical-align: middle;\n",
       "    }\n",
       "\n",
       "    .dataframe tbody tr th {\n",
       "        vertical-align: top;\n",
       "    }\n",
       "\n",
       "    .dataframe thead th {\n",
       "        text-align: right;\n",
       "    }\n",
       "</style>\n",
       "<table border=\"1\" class=\"dataframe\">\n",
       "  <thead>\n",
       "    <tr style=\"text-align: right;\">\n",
       "      <th></th>\n",
       "      <th>age</th>\n",
       "      <th>job</th>\n",
       "      <th>marital</th>\n",
       "      <th>balance</th>\n",
       "      <th>duration</th>\n",
       "      <th>success</th>\n",
       "    </tr>\n",
       "  </thead>\n",
       "  <tbody>\n",
       "    <tr>\n",
       "      <th>0</th>\n",
       "      <td>30</td>\n",
       "      <td>unemployed</td>\n",
       "      <td>married</td>\n",
       "      <td>1787</td>\n",
       "      <td>79</td>\n",
       "      <td>0</td>\n",
       "    </tr>\n",
       "    <tr>\n",
       "      <th>1</th>\n",
       "      <td>33</td>\n",
       "      <td>services</td>\n",
       "      <td>married</td>\n",
       "      <td>4789</td>\n",
       "      <td>220</td>\n",
       "      <td>0</td>\n",
       "    </tr>\n",
       "    <tr>\n",
       "      <th>2</th>\n",
       "      <td>35</td>\n",
       "      <td>management</td>\n",
       "      <td>single</td>\n",
       "      <td>1350</td>\n",
       "      <td>185</td>\n",
       "      <td>0</td>\n",
       "    </tr>\n",
       "    <tr>\n",
       "      <th>3</th>\n",
       "      <td>30</td>\n",
       "      <td>management</td>\n",
       "      <td>married</td>\n",
       "      <td>1476</td>\n",
       "      <td>199</td>\n",
       "      <td>0</td>\n",
       "    </tr>\n",
       "    <tr>\n",
       "      <th>4</th>\n",
       "      <td>59</td>\n",
       "      <td>blue-collar</td>\n",
       "      <td>married</td>\n",
       "      <td>0</td>\n",
       "      <td>226</td>\n",
       "      <td>0</td>\n",
       "    </tr>\n",
       "    <tr>\n",
       "      <th>...</th>\n",
       "      <td>...</td>\n",
       "      <td>...</td>\n",
       "      <td>...</td>\n",
       "      <td>...</td>\n",
       "      <td>...</td>\n",
       "      <td>...</td>\n",
       "    </tr>\n",
       "    <tr>\n",
       "      <th>4516</th>\n",
       "      <td>33</td>\n",
       "      <td>services</td>\n",
       "      <td>married</td>\n",
       "      <td>-333</td>\n",
       "      <td>329</td>\n",
       "      <td>0</td>\n",
       "    </tr>\n",
       "    <tr>\n",
       "      <th>4517</th>\n",
       "      <td>57</td>\n",
       "      <td>self-employed</td>\n",
       "      <td>married</td>\n",
       "      <td>-3313</td>\n",
       "      <td>153</td>\n",
       "      <td>0</td>\n",
       "    </tr>\n",
       "    <tr>\n",
       "      <th>4518</th>\n",
       "      <td>57</td>\n",
       "      <td>technician</td>\n",
       "      <td>married</td>\n",
       "      <td>295</td>\n",
       "      <td>151</td>\n",
       "      <td>0</td>\n",
       "    </tr>\n",
       "    <tr>\n",
       "      <th>4519</th>\n",
       "      <td>28</td>\n",
       "      <td>blue-collar</td>\n",
       "      <td>married</td>\n",
       "      <td>1137</td>\n",
       "      <td>129</td>\n",
       "      <td>0</td>\n",
       "    </tr>\n",
       "    <tr>\n",
       "      <th>4520</th>\n",
       "      <td>44</td>\n",
       "      <td>entrepreneur</td>\n",
       "      <td>single</td>\n",
       "      <td>1136</td>\n",
       "      <td>345</td>\n",
       "      <td>0</td>\n",
       "    </tr>\n",
       "  </tbody>\n",
       "</table>\n",
       "<p>4521 rows × 6 columns</p>\n",
       "</div>"
      ],
      "text/plain": [
       "      age            job  marital  balance  duration  success\n",
       "0      30     unemployed  married     1787        79        0\n",
       "1      33       services  married     4789       220        0\n",
       "2      35     management   single     1350       185        0\n",
       "3      30     management  married     1476       199        0\n",
       "4      59    blue-collar  married        0       226        0\n",
       "...   ...            ...      ...      ...       ...      ...\n",
       "4516   33       services  married     -333       329        0\n",
       "4517   57  self-employed  married    -3313       153        0\n",
       "4518   57     technician  married      295       151        0\n",
       "4519   28    blue-collar  married     1137       129        0\n",
       "4520   44   entrepreneur   single     1136       345        0\n",
       "\n",
       "[4521 rows x 6 columns]"
      ]
     },
     "execution_count": 67,
     "metadata": {
      "tags": []
     },
     "output_type": "execute_result"
    }
   ],
   "source": [
    "df"
   ]
  },
  {
   "cell_type": "markdown",
   "metadata": {
    "colab_type": "text",
    "id": "3Jj8C4VEj5sJ"
   },
   "source": [
    "# High-level model: more is better\n",
    "\n",
    "A blanket approach to marketing and sales may be: More resources lead to greater success.\n",
    "\n",
    "So in the case of direct marketing on the phone we could expect that the more time we spend with a prospective customer on the phone, the bigger our success rate."
   ]
  },
  {
   "cell_type": "code",
   "execution_count": 68,
   "metadata": {
    "colab": {
     "base_uri": "https://localhost:8080/",
     "height": 80
    },
    "colab_type": "code",
    "id": "_6oJEQ8mVRMg",
    "outputId": "66e581c0-e670-48e9-e2f0-5996d843c500"
   },
   "outputs": [
    {
     "data": {
      "image/svg+xml": [
       "<?xml version=\"1.0\" encoding=\"UTF-8\" standalone=\"no\"?>\n",
       "<!DOCTYPE svg PUBLIC \"-//W3C//DTD SVG 1.1//EN\"\n",
       " \"http://www.w3.org/Graphics/SVG/1.1/DTD/svg11.dtd\">\n",
       "<!-- Generated by graphviz version 2.40.1 (20161225.0304)\n",
       " -->\n",
       "<!-- Title: G Pages: 1 -->\n",
       "<svg width=\"204pt\" height=\"44pt\"\n",
       " viewBox=\"0.00 0.00 203.89 44.00\" xmlns=\"http://www.w3.org/2000/svg\" xmlns:xlink=\"http://www.w3.org/1999/xlink\">\n",
       "<g id=\"graph0\" class=\"graph\" transform=\"scale(1 1) rotate(0) translate(4 40)\">\n",
       "<title>G</title>\n",
       "<polygon fill=\"#ffffff\" stroke=\"transparent\" points=\"-4,4 -4,-40 199.8858,-40 199.8858,4 -4,4\"/>\n",
       "<!-- duration -->\n",
       "<g id=\"node1\" class=\"node\">\n",
       "<title>duration</title>\n",
       "<ellipse fill=\"none\" stroke=\"#000000\" cx=\"42.2463\" cy=\"-18\" rx=\"42.4939\" ry=\"18\"/>\n",
       "<text text-anchor=\"middle\" x=\"42.2463\" y=\"-14.3\" font-family=\"Times,serif\" font-size=\"14.00\" fill=\"#000000\">duration</text>\n",
       "</g>\n",
       "<!-- success -->\n",
       "<g id=\"node2\" class=\"node\">\n",
       "<title>success</title>\n",
       "<ellipse fill=\"none\" stroke=\"#000000\" cx=\"158.1892\" cy=\"-18\" rx=\"37.8943\" ry=\"18\"/>\n",
       "<text text-anchor=\"middle\" x=\"158.1892\" y=\"-14.3\" font-family=\"Times,serif\" font-size=\"14.00\" fill=\"#000000\">success</text>\n",
       "</g>\n",
       "<!-- duration&#45;&gt;success -->\n",
       "<g id=\"edge1\" class=\"edge\">\n",
       "<title>duration&#45;&gt;success</title>\n",
       "<path fill=\"none\" stroke=\"#000000\" d=\"M84.7608,-18C93.0312,-18 101.7545,-18 110.1876,-18\"/>\n",
       "<polygon fill=\"#000000\" stroke=\"#000000\" points=\"110.2803,-21.5001 120.2803,-18 110.2802,-14.5001 110.2803,-21.5001\"/>\n",
       "</g>\n",
       "</g>\n",
       "</svg>\n"
      ],
      "text/plain": [
       "<graphviz.files.Source at 0x7fa6e6d86400>"
      ]
     },
     "execution_count": 68,
     "metadata": {
      "tags": []
     },
     "output_type": "execute_result"
    }
   ],
   "source": [
    "#hide_input\n",
    "gv('''\n",
    "  duration->success\n",
    "''')"
   ]
  },
  {
   "cell_type": "markdown",
   "metadata": {
    "colab_type": "text",
    "id": "rLWQSSOvk2Qa"
   },
   "source": [
    "To test our model, we discretize the duration of our interaction with the customer into six duration buckets: bucket 1 holds the shortest interactions while bucket 6 holds the longest interactions."
   ]
  },
  {
   "cell_type": "code",
   "execution_count": 0,
   "metadata": {
    "colab": {},
    "colab_type": "code",
    "id": "o8w8ogf8PWIb"
   },
   "outputs": [],
   "source": [
    "no_buckets = 6\n",
    "df['duration_bucket'] = pd.qcut(df['duration'], no_buckets, labels=[f'bucket {b + 1}' for b in range(no_buckets)])"
   ]
  },
  {
   "cell_type": "code",
   "execution_count": 201,
   "metadata": {
    "colab": {
     "base_uri": "https://localhost:8080/",
     "height": 266
    },
    "colab_type": "code",
    "id": "E1MO7y5aQrFh",
    "outputId": "7e757171-479d-4bed-aaeb-0815f02930a7"
   },
   "outputs": [
    {
     "data": {
      "text/html": [
       "<div>\n",
       "<style scoped>\n",
       "    .dataframe tbody tr th:only-of-type {\n",
       "        vertical-align: middle;\n",
       "    }\n",
       "\n",
       "    .dataframe tbody tr th {\n",
       "        vertical-align: top;\n",
       "    }\n",
       "\n",
       "    .dataframe thead th {\n",
       "        text-align: right;\n",
       "    }\n",
       "</style>\n",
       "<table border=\"1\" class=\"dataframe\">\n",
       "  <thead>\n",
       "    <tr style=\"text-align: right;\">\n",
       "      <th></th>\n",
       "      <th>success</th>\n",
       "    </tr>\n",
       "    <tr>\n",
       "      <th>duration_bucket</th>\n",
       "      <th></th>\n",
       "    </tr>\n",
       "  </thead>\n",
       "  <tbody>\n",
       "    <tr>\n",
       "      <th>bucket 1</th>\n",
       "      <td>0.003932</td>\n",
       "    </tr>\n",
       "    <tr>\n",
       "      <th>bucket 2</th>\n",
       "      <td>0.031662</td>\n",
       "    </tr>\n",
       "    <tr>\n",
       "      <th>bucket 3</th>\n",
       "      <td>0.048193</td>\n",
       "    </tr>\n",
       "    <tr>\n",
       "      <th>bucket 4</th>\n",
       "      <td>0.095174</td>\n",
       "    </tr>\n",
       "    <tr>\n",
       "      <th>bucket 5</th>\n",
       "      <td>0.155378</td>\n",
       "    </tr>\n",
       "    <tr>\n",
       "      <th>bucket 6</th>\n",
       "      <td>0.358090</td>\n",
       "    </tr>\n",
       "  </tbody>\n",
       "</table>\n",
       "</div>"
      ],
      "text/plain": [
       "                  success\n",
       "duration_bucket          \n",
       "bucket 1         0.003932\n",
       "bucket 2         0.031662\n",
       "bucket 3         0.048193\n",
       "bucket 4         0.095174\n",
       "bucket 5         0.155378\n",
       "bucket 6         0.358090"
      ]
     },
     "execution_count": 201,
     "metadata": {
      "tags": []
     },
     "output_type": "execute_result"
    }
   ],
   "source": [
    "df.groupby('duration_bucket').agg({'success': 'mean'})"
   ]
  },
  {
   "cell_type": "markdown",
   "metadata": {
    "colab_type": "text",
    "id": "Bumnob78l2Uo"
   },
   "source": [
    "Looking at the average success rate in each duration bucket shows us that there is positive correlation between the duration of a sales interaction and our success rate - just as our model predicted.\n",
    "\n",
    "Hence, more marketing spend appears to lead to greater success in general.\n",
    "\n",
    "From a data perspective this is a pretty disappointing result as we expect to glean more intelligent insights from all the data we collected."
   ]
  },
  {
   "cell_type": "markdown",
   "metadata": {
    "colab_type": "text",
    "id": "SSRECKAQngQn"
   },
   "source": [
    "# Nuanced model: more isn't always better and there are always tradeoffs\n",
    "\n",
    "Let's dig deeper into what is going on here: Yes, the duration of the interaction between call agent and prospective customer likely influences our success rate.\n",
    "\n",
    "However, call agents also probably choose to spend more time on the phone with customers whose account balance is higher - hoping for a greater chance of a sale. That same account balance also likely influences how affine the customer is for spending more money on financial products.\n",
    "\n",
    "Both present job status and marital status are also likely candidates for influencing an affinity for financial products.\n",
    "\n",
    "And age of the customer probably influences both their job and marital status."
   ]
  },
  {
   "cell_type": "code",
   "execution_count": 202,
   "metadata": {
    "colab": {
     "base_uri": "https://localhost:8080/",
     "height": 253
    },
    "colab_type": "code",
    "id": "SwkRGZTiKYSv",
    "outputId": "f423aaf3-e767-4ff3-84b2-2345e2b32b9c"
   },
   "outputs": [
    {
     "data": {
      "image/svg+xml": [
       "<?xml version=\"1.0\" encoding=\"UTF-8\" standalone=\"no\"?>\n",
       "<!DOCTYPE svg PUBLIC \"-//W3C//DTD SVG 1.1//EN\"\n",
       " \"http://www.w3.org/Graphics/SVG/1.1/DTD/svg11.dtd\">\n",
       "<!-- Generated by graphviz version 2.40.1 (20161225.0304)\n",
       " -->\n",
       "<!-- Title: G Pages: 1 -->\n",
       "<svg width=\"497pt\" height=\"174pt\"\n",
       " viewBox=\"0.00 0.00 496.58 174.00\" xmlns=\"http://www.w3.org/2000/svg\" xmlns:xlink=\"http://www.w3.org/1999/xlink\">\n",
       "<g id=\"graph0\" class=\"graph\" transform=\"scale(1 1) rotate(0) translate(4 170)\">\n",
       "<title>G</title>\n",
       "<polygon fill=\"#ffffff\" stroke=\"transparent\" points=\"-4,4 -4,-170 492.579,-170 492.579,4 -4,4\"/>\n",
       "<!-- age -->\n",
       "<g id=\"node1\" class=\"node\">\n",
       "<title>age</title>\n",
       "<ellipse fill=\"none\" stroke=\"#000000\" cx=\"27\" cy=\"-41\" rx=\"27\" ry=\"18\"/>\n",
       "<text text-anchor=\"middle\" x=\"27\" y=\"-37.3\" font-family=\"Times,serif\" font-size=\"14.00\" fill=\"#000000\">age</text>\n",
       "</g>\n",
       "<!-- job -->\n",
       "<g id=\"node2\" class=\"node\">\n",
       "<title>job</title>\n",
       "<ellipse fill=\"none\" stroke=\"#000000\" cx=\"117\" cy=\"-64\" rx=\"27\" ry=\"18\"/>\n",
       "<text text-anchor=\"middle\" x=\"117\" y=\"-60.3\" font-family=\"Times,serif\" font-size=\"14.00\" fill=\"#000000\">job</text>\n",
       "</g>\n",
       "<!-- age&#45;&gt;job -->\n",
       "<g id=\"edge1\" class=\"edge\">\n",
       "<title>age&#45;&gt;job</title>\n",
       "<path fill=\"none\" stroke=\"#000000\" d=\"M52.5497,-47.5294C61.6523,-49.8556 72.0697,-52.5178 81.8371,-55.0139\"/>\n",
       "<polygon fill=\"#000000\" stroke=\"#000000\" points=\"81.1427,-58.4489 91.698,-57.5339 82.876,-51.6668 81.1427,-58.4489\"/>\n",
       "</g>\n",
       "<!-- marital -->\n",
       "<g id=\"node3\" class=\"node\">\n",
       "<title>marital</title>\n",
       "<ellipse fill=\"none\" stroke=\"#000000\" cx=\"218.3466\" cy=\"-18\" rx=\"36.2938\" ry=\"18\"/>\n",
       "<text text-anchor=\"middle\" x=\"218.3466\" y=\"-14.3\" font-family=\"Times,serif\" font-size=\"14.00\" fill=\"#000000\">marital</text>\n",
       "</g>\n",
       "<!-- age&#45;&gt;marital -->\n",
       "<g id=\"edge2\" class=\"edge\">\n",
       "<title>age&#45;&gt;marital</title>\n",
       "<path fill=\"none\" stroke=\"#000000\" d=\"M53.6059,-37.8019C84.3934,-34.1013 135.6129,-27.9447 172.7788,-23.4773\"/>\n",
       "<polygon fill=\"#000000\" stroke=\"#000000\" points=\"173.3493,-26.934 182.8601,-22.2655 172.5139,-19.984 173.3493,-26.934\"/>\n",
       "</g>\n",
       "<!-- balance -->\n",
       "<g id=\"node4\" class=\"node\">\n",
       "<title>balance</title>\n",
       "<ellipse fill=\"none\" stroke=\"#000000\" cx=\"218.3466\" cy=\"-110\" rx=\"38.1938\" ry=\"18\"/>\n",
       "<text text-anchor=\"middle\" x=\"218.3466\" y=\"-106.3\" font-family=\"Times,serif\" font-size=\"14.00\" fill=\"#000000\">balance</text>\n",
       "</g>\n",
       "<!-- job&#45;&gt;balance -->\n",
       "<g id=\"edge3\" class=\"edge\">\n",
       "<title>job&#45;&gt;balance</title>\n",
       "<path fill=\"none\" stroke=\"#000000\" d=\"M139.4921,-74.2089C151.7165,-79.7574 167.1492,-86.7621 181.1139,-93.1005\"/>\n",
       "<polygon fill=\"#000000\" stroke=\"#000000\" points=\"179.9373,-96.4101 190.4898,-97.3561 182.8305,-90.0359 179.9373,-96.4101\"/>\n",
       "</g>\n",
       "<!-- success -->\n",
       "<g id=\"node6\" class=\"node\">\n",
       "<title>success</title>\n",
       "<ellipse fill=\"none\" stroke=\"#000000\" cx=\"450.8824\" cy=\"-83\" rx=\"37.8943\" ry=\"18\"/>\n",
       "<text text-anchor=\"middle\" x=\"450.8824\" y=\"-79.3\" font-family=\"Times,serif\" font-size=\"14.00\" fill=\"#000000\">success</text>\n",
       "</g>\n",
       "<!-- job&#45;&gt;success -->\n",
       "<g id=\"edge6\" class=\"edge\">\n",
       "<title>job&#45;&gt;success</title>\n",
       "<path fill=\"none\" stroke=\"#000000\" d=\"M144.0402,-65.5388C200.6382,-68.7595 332.2091,-76.2467 403.2876,-80.2916\"/>\n",
       "<polygon fill=\"#000000\" stroke=\"#000000\" points=\"403.1368,-83.7885 413.3195,-80.8624 403.5346,-76.7999 403.1368,-83.7885\"/>\n",
       "</g>\n",
       "<!-- marital&#45;&gt;success -->\n",
       "<g id=\"edge5\" class=\"edge\">\n",
       "<title>marital&#45;&gt;success</title>\n",
       "<path fill=\"none\" stroke=\"#000000\" d=\"M253.6194,-22.8033C286.1908,-27.7767 335.6608,-36.7028 377.1857,-50 390.1434,-54.1493 403.8686,-59.8956 415.9169,-65.4316\"/>\n",
       "<polygon fill=\"#000000\" stroke=\"#000000\" points=\"414.6351,-68.6967 425.1732,-69.7917 417.6181,-62.364 414.6351,-68.6967\"/>\n",
       "</g>\n",
       "<!-- duration -->\n",
       "<g id=\"node5\" class=\"node\">\n",
       "<title>duration</title>\n",
       "<ellipse fill=\"none\" stroke=\"#000000\" cx=\"334.9394\" cy=\"-148\" rx=\"42.4939\" ry=\"18\"/>\n",
       "<text text-anchor=\"middle\" x=\"334.9394\" y=\"-144.3\" font-family=\"Times,serif\" font-size=\"14.00\" fill=\"#000000\">duration</text>\n",
       "</g>\n",
       "<!-- balance&#45;&gt;duration -->\n",
       "<g id=\"edge4\" class=\"edge\">\n",
       "<title>balance&#45;&gt;duration</title>\n",
       "<path fill=\"none\" stroke=\"#000000\" d=\"M249.8983,-120.2833C262.7056,-124.4575 277.7117,-129.3483 291.5235,-133.8499\"/>\n",
       "<polygon fill=\"#000000\" stroke=\"#000000\" points=\"290.7287,-137.272 301.3211,-137.0431 292.8979,-130.6165 290.7287,-137.272\"/>\n",
       "</g>\n",
       "<!-- balance&#45;&gt;success -->\n",
       "<g id=\"edge7\" class=\"edge\">\n",
       "<title>balance&#45;&gt;success</title>\n",
       "<path fill=\"none\" stroke=\"#000000\" d=\"M255.7075,-105.662C295.9994,-100.9836 360.2291,-93.5259 403.9115,-88.4538\"/>\n",
       "<polygon fill=\"#000000\" stroke=\"#000000\" points=\"404.4687,-91.9128 413.9982,-87.2827 403.6613,-84.9595 404.4687,-91.9128\"/>\n",
       "</g>\n",
       "<!-- duration&#45;&gt;success -->\n",
       "<g id=\"edge8\" class=\"edge\">\n",
       "<title>duration&#45;&gt;success</title>\n",
       "<path fill=\"none\" stroke=\"#000000\" d=\"M360.6709,-133.5744C377.3735,-124.2106 399.3115,-111.9117 417.3711,-101.7871\"/>\n",
       "<polygon fill=\"#000000\" stroke=\"#000000\" points=\"419.4022,-104.661 426.4134,-96.7178 415.9791,-98.555 419.4022,-104.661\"/>\n",
       "</g>\n",
       "</g>\n",
       "</svg>\n"
      ],
      "text/plain": [
       "<graphviz.files.Source at 0x7fa6e3b81b00>"
      ]
     },
     "execution_count": 202,
     "metadata": {
      "tags": []
     },
     "output_type": "execute_result"
    }
   ],
   "source": [
    "#hide_input\n",
    "gv('''\n",
    "  age->job;\n",
    "  age->marital;\n",
    "  job->balance;\n",
    "  balance->duration;\n",
    "  marital->success;\n",
    "  job->success;\n",
    "  balance->success;\n",
    "  duration->success\n",
    "''')"
   ]
  },
  {
   "cell_type": "markdown",
   "metadata": {
    "colab_type": "text",
    "id": "cnne91BApuM8"
   },
   "source": [
    "Since a customer's account balance probably influences both how much time we spend with them on the phone and their likelihood of purchasing another financial product we will **control for account balance**.\n",
    "\n",
    "We control for account balance by training a cluster algorithm that segments our data set into three groups of similar account balance."
   ]
  },
  {
   "cell_type": "code",
   "execution_count": 0,
   "metadata": {
    "colab": {},
    "colab_type": "code",
    "id": "Xf5yTTwPW-eu"
   },
   "outputs": [],
   "source": [
    "df['job'] = LabelEncoder().fit_transform(df['job'])\n",
    "df['marital'] = LabelEncoder().fit_transform(df['marital'])"
   ]
  },
  {
   "cell_type": "code",
   "execution_count": 0,
   "metadata": {
    "colab": {},
    "colab_type": "code",
    "id": "LwKuwgYCSyz1"
   },
   "outputs": [],
   "source": [
    "segmenter = KMeans(n_clusters=3, random_state=42)"
   ]
  },
  {
   "cell_type": "code",
   "execution_count": 0,
   "metadata": {
    "colab": {},
    "colab_type": "code",
    "id": "p8D38d2boFzC"
   },
   "outputs": [],
   "source": [
    "df['segment'] = segmenter.fit_predict(df[['balance']])"
   ]
  },
  {
   "cell_type": "code",
   "execution_count": 0,
   "metadata": {
    "colab": {},
    "colab_type": "code",
    "id": "y3gREQRqdSO3"
   },
   "outputs": [],
   "source": [
    "df['segment'] = df['segment'].replace({0: 'low balance', 1: 'high balance', 2: 'medium balance'})"
   ]
  },
  {
   "cell_type": "markdown",
   "metadata": {
    "colab_type": "text",
    "id": "E2LcpSKCqeQT"
   },
   "source": [
    "Looking at both the average account balance and age in our three segments, we notice that our clustering algorithm picked out low, medium, and high balance segments.\n",
    "\n",
    "We also notice that average age correlates with average balance in these three segments hence our intuition codified in our above model seems valid."
   ]
  },
  {
   "cell_type": "code",
   "execution_count": 225,
   "metadata": {
    "colab": {
     "base_uri": "https://localhost:8080/",
     "height": 173
    },
    "colab_type": "code",
    "id": "VQN9vGhqbLwH",
    "outputId": "f5f4ec29-21c1-4460-c1cc-47906c880b3d"
   },
   "outputs": [
    {
     "data": {
      "text/html": [
       "<div>\n",
       "<style scoped>\n",
       "    .dataframe tbody tr th:only-of-type {\n",
       "        vertical-align: middle;\n",
       "    }\n",
       "\n",
       "    .dataframe tbody tr th {\n",
       "        vertical-align: top;\n",
       "    }\n",
       "\n",
       "    .dataframe thead th {\n",
       "        text-align: right;\n",
       "    }\n",
       "</style>\n",
       "<table border=\"1\" class=\"dataframe\">\n",
       "  <thead>\n",
       "    <tr style=\"text-align: right;\">\n",
       "      <th></th>\n",
       "      <th>age</th>\n",
       "      <th>balance</th>\n",
       "    </tr>\n",
       "    <tr>\n",
       "      <th>segment</th>\n",
       "      <th></th>\n",
       "      <th></th>\n",
       "    </tr>\n",
       "  </thead>\n",
       "  <tbody>\n",
       "    <tr>\n",
       "      <th>high balance</th>\n",
       "      <td>44.542857</td>\n",
       "      <td>18361.771429</td>\n",
       "    </tr>\n",
       "    <tr>\n",
       "      <th>low balance</th>\n",
       "      <td>40.845577</td>\n",
       "      <td>543.930678</td>\n",
       "    </tr>\n",
       "    <tr>\n",
       "      <th>medium balance</th>\n",
       "      <td>42.911111</td>\n",
       "      <td>5202.864957</td>\n",
       "    </tr>\n",
       "  </tbody>\n",
       "</table>\n",
       "</div>"
      ],
      "text/plain": [
       "                      age       balance\n",
       "segment                                \n",
       "high balance    44.542857  18361.771429\n",
       "low balance     40.845577    543.930678\n",
       "medium balance  42.911111   5202.864957"
      ]
     },
     "execution_count": 225,
     "metadata": {
      "tags": []
     },
     "output_type": "execute_result"
    }
   ],
   "source": [
    "df.groupby('segment').agg({'age': 'mean', 'balance': 'mean'})"
   ]
  },
  {
   "cell_type": "markdown",
   "metadata": {
    "colab_type": "text",
    "id": "C5LJTlenrTzZ"
   },
   "source": [
    "Now, what about the effectiveness of our marketing resources in each segment?\n",
    "\n",
    "Visualizing our rate of success in the six duration buckets broken down by account balance segment we see a more nuanced picture:\n",
    "\n",
    "- Customers with low account balances really need to be worked on and only show success rates greater than 20% in the highest duration bucket 6,\n",
    "- customers with medium balances already show a greater than 20% purchase likelihood in duration bucket 4, and\n",
    "- customers with high balances actually max out in duration bucket 5 and drop below a 20% success rate in bucket 6."
   ]
  },
  {
   "cell_type": "code",
   "execution_count": 0,
   "metadata": {
    "colab": {},
    "colab_type": "code",
    "id": "vTQhVaH2YFNJ"
   },
   "outputs": [],
   "source": [
    "success_rates = df.groupby(['segment', 'duration_bucket']).agg({'success': 'mean'}).reset_index()"
   ]
  },
  {
   "cell_type": "code",
   "execution_count": 228,
   "metadata": {
    "colab": {
     "base_uri": "https://localhost:8080/",
     "height": 394
    },
    "colab_type": "code",
    "id": "5PMRNW3lZ0m4",
    "outputId": "5af3a7ac-2921-4f5b-8349-4adca8876ec7"
   },
   "outputs": [
    {
     "data": {
      "image/png": "[encoded data removed]",
      "text/plain": [
       "<Figure size 720x432 with 1 Axes>"
      ]
     },
     "metadata": {
      "tags": []
     },
     "output_type": "display_data"
    }
   ],
   "source": [
    "sns.set(rc={'figure.figsize': (10,6)})\n",
    "sns.barplot(\n",
    "    x='duration_bucket',\n",
    "    y='success',\n",
    "    hue='segment',\n",
    "    data=success_rates,\n",
    "    hue_order=['low balance', 'medium balance', 'high balance']\n",
    ");"
   ]
  },
  {
   "cell_type": "markdown",
   "metadata": {
    "colab_type": "text",
    "id": "6q-oQ8aBtR_x"
   },
   "source": [
    "Our more nuanced model and analysis provide us with **data-driven insights that provide actionable and testable advice**:\n",
    "\n",
    "- We should probably re-evaluate whether low balance individuals are sensible targets for our marketing campaigns given how resource-intensive they are,\n",
    "- compute the profit and loss tradeoff between spending bucket 4 and bucket 6 resources on medium balance individuals, and\n",
    "- ensure that we do not overdo it with our calls for high balance individuals."
   ]
  }
 ],
 "metadata": {
  "colab": {
   "collapsed_sections": [],
   "name": "2020-01-12-Optimal_resource_allocation_and_uplift_for_direct_marketing.ipynb",
   "provenance": []
  },
  "kernelspec": {
   "display_name": "Python 3",
   "name": "python3"
  }
 },
 "nbformat": 4,
 "nbformat_minor": 1
}
