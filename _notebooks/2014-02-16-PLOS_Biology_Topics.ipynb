{
 "cells": [
  {
   "cell_type": "markdown",
   "metadata": {},
   "source": [
    "# \"Topic discovery in scientific articles with Python\"\n",
    "> \"In this article we apply latent dirichlet allocation (LDA) to discover topic clusters in academic papers.\"\n",
    "- toc: true\n",
    "- branch: master\n",
    "- badges: true\n",
    "- comments: true\n",
    "- categories: [python, scikit-learn, nlp]"
   ]
  },
  {
   "cell_type": "markdown",
   "metadata": {},
   "source": [
    "# PLOS Biology Topics"
   ]
  },
  {
   "cell_type": "markdown",
   "metadata": {},
   "source": [
    "Ever wonder what topics are discussed in PLOS Biology articles?\n",
    "Here I will apply an implementation of [Latent Dirichlet Allocation](https://en.wikipedia.org/wiki/Latent_Dirichlet_allocation) (LDA)\n",
    "on a set of 1,754 PLOS Biology articles to work out what a possible collection of underlying topics could be.\n",
    "\n",
    "I first read about LDA in [Building Machine Learning Systems with Python](http://www.packtpub.com/building-machine-learning-systems-with-python/book)\n",
    "co-authored by [Luis Coelho](https://twitter.com/luispedrocoelho).\n",
    "\n",
    "LDA seems to have been first described by [Blei *et al.*](http://jmlr.org/papers/volume3/blei03a/blei03a.pdf) and\n",
    "I will use the implementation provided by\n",
    "[gensim](http://radimrehurek.com/gensim/wiki.html#latent-dirichlet-allocation) which was written by\n",
    "[Radim Řehůřek](https://twitter.com/RadimRehurek)."
   ]
  },
  {
   "cell_type": "code",
   "execution_count": null,
   "metadata": {},
   "outputs": [],
   "source": [
    "import gensim"
   ]
  },
  {
   "cell_type": "code",
   "execution_count": null,
   "metadata": {},
   "outputs": [],
   "source": [
    "import plospy\n",
    "import os"
   ]
  },
  {
   "cell_type": "code",
   "execution_count": null,
   "metadata": {},
   "outputs": [],
   "source": [
    "import nltk"
   ]
  },
  {
   "cell_type": "code",
   "execution_count": null,
   "metadata": {},
   "outputs": [],
   "source": [
    "import cPickle as pickle"
   ]
  },
  {
   "cell_type": "markdown",
   "metadata": {},
   "source": [
    "With the following lines of code we open, parse, and tokenize all 1,754 PLOS Biology articles in our collection.\n",
    "\n",
    "As this takes a bit of time and memory, I carried out all of these steps once and stored the resulting data structures to my hard disk for later reuse - see further below."
   ]
  },
  {
   "cell_type": "code",
   "execution_count": null,
   "metadata": {},
   "outputs": [],
   "source": [
    "all_names = [name for name in os.listdir('../plos/plos_biology/plos_biology_data') if '.dat' in name]"
   ]
  },
  {
   "cell_type": "code",
   "execution_count": null,
   "metadata": {},
   "outputs": [],
   "source": [
    "article_bodies = []\n",
    "\n",
    "for name_i, name in enumerate(all_names):\n",
    "    docs = plospy.PlosXml('../plos/plos_biology/plos_biology_data/'+name)\n",
    "    for article in docs.docs:\n",
    "        article_bodies.append(article['body'])"
   ]
  },
  {
   "cell_type": "markdown",
   "metadata": {},
   "source": [
    "We have 1,754 PLOS Biology articles in our collection:"
   ]
  },
  {
   "cell_type": "code",
   "execution_count": null,
   "metadata": {},
   "outputs": [],
   "source": [
    "len(article_bodies)"
   ]
  },
  {
   "cell_type": "code",
   "execution_count": null,
   "metadata": {},
   "outputs": [],
   "source": [
    "punkt_param = nltk.tokenize.punkt.PunktParameters()\n",
    "punkt_param.abbrev_types = set(['et al', 'i.e', 'e.g', 'ref', 'c.f',\n",
    "                                'fig', 'Fig', 'Eq', 'eq', 'eqn', 'Eqn',\n",
    "                                'dr', 'Dr'])\n",
    "sentence_splitter = nltk.tokenize.punkt.PunktSentenceTokenizer(punkt_param)"
   ]
  },
  {
   "cell_type": "code",
   "execution_count": null,
   "metadata": {},
   "outputs": [],
   "source": [
    "sentences = []\n",
    "for body in article_bodies:\n",
    "    sentences.append(sentence_splitter.tokenize(body))"
   ]
  },
  {
   "cell_type": "code",
   "execution_count": null,
   "metadata": {},
   "outputs": [],
   "source": [
    "articles = []\n",
    "for body in sentences:\n",
    "    this_article = []\n",
    "    for sentence in body:\n",
    "        this_article.append(nltk.tokenize.word_tokenize(sentence))\n",
    "    articles.append(this_article)"
   ]
  },
  {
   "cell_type": "code",
   "execution_count": null,
   "metadata": {},
   "outputs": [],
   "source": [
    "pickle.dump(articles, open('plos_biology_articles_tokenized.list', 'w'))"
   ]
  },
  {
   "cell_type": "code",
   "execution_count": null,
   "metadata": {},
   "outputs": [],
   "source": [
    "articles = pickle.load(open('plos_biology_articles_tokenized.list', 'r'))"
   ]
  },
  {
   "cell_type": "code",
   "execution_count": null,
   "metadata": {},
   "outputs": [],
   "source": [
    "is_stopword = lambda w: len(w) < 4 or w in nltk.corpus.stopwords.words('english')"
   ]
  },
  {
   "cell_type": "markdown",
   "metadata": {},
   "source": [
    "Save each article as one list of tokens and filter out stopwords:"
   ]
  },
  {
   "cell_type": "code",
   "execution_count": null,
   "metadata": {},
   "outputs": [],
   "source": [
    "articles_unfurled = []\n",
    "for article in articles:\n",
    "    this_article = []\n",
    "    for sentence in article:\n",
    "        this_article += [token.lower().encode('utf-8') for token in sentence if not is_stopword(token)]\n",
    "    articles_unfurled.append(this_article)"
   ]
  },
  {
   "cell_type": "code",
   "execution_count": null,
   "metadata": {},
   "outputs": [],
   "source": [
    "pickle.dump(articles_unfurled, open('plos_biology_articles_unfurled.list', 'w'))"
   ]
  },
  {
   "cell_type": "code",
   "execution_count": null,
   "metadata": {},
   "outputs": [],
   "source": [
    "articles_unfurled = pickle.load(open('plos_biology_articles_unfurled.list', 'r'))"
   ]
  },
  {
   "cell_type": "markdown",
   "metadata": {},
   "source": [
    "## Dictionary and Corpus Creation"
   ]
  },
  {
   "cell_type": "markdown",
   "metadata": {},
   "source": [
    "Create a dictionary of all words (tokens) that appear in our collection of PLOS Biology articles\n",
    "and create a bag of words object for each article (`doc2bow`)."
   ]
  },
  {
   "cell_type": "code",
   "execution_count": null,
   "metadata": {},
   "outputs": [],
   "source": [
    "dictionary = gensim.corpora.Dictionary(articles_unfurled)"
   ]
  },
  {
   "cell_type": "code",
   "execution_count": null,
   "metadata": {},
   "outputs": [],
   "source": [
    "dictionary.save('plos_biology.dict')"
   ]
  },
  {
   "cell_type": "code",
   "execution_count": null,
   "metadata": {},
   "outputs": [],
   "source": [
    "dictionary = gensim.corpora.dictionary.Dictionary().load('plos_biology.dict')"
   ]
  },
  {
   "cell_type": "markdown",
   "metadata": {},
   "source": [
    "I noticed that the word *figure* occurs rather frequently in these articles, so let us exclude this and any other words\n",
    "that appear in more than half of the articles in this data set ([thanks to Radim](https://twitter.com/RadimRehurek/status/436136774906044416)\n",
    "for pointing this out to me)."
   ]
  },
  {
   "cell_type": "code",
   "execution_count": null,
   "metadata": {},
   "outputs": [],
   "source": [
    "dictionary.filter_extremes()"
   ]
  },
  {
   "cell_type": "code",
   "execution_count": null,
   "metadata": {},
   "outputs": [],
   "source": [
    "corpus = [dictionary.doc2bow(article) for article in articles_unfurled]"
   ]
  },
  {
   "cell_type": "code",
   "execution_count": null,
   "metadata": {},
   "outputs": [],
   "source": [
    "gensim.corpora.MmCorpus.serialize('plos_biology_corpus.mm', corpus)"
   ]
  },
  {
   "cell_type": "code",
   "execution_count": null,
   "metadata": {},
   "outputs": [],
   "source": [
    "corpus = gensim.corpora.MmCorpus('plos_biology_corpus.mm')"
   ]
  },
  {
   "cell_type": "code",
   "execution_count": null,
   "metadata": {},
   "outputs": [],
   "source": [
    "model = gensim.models.ldamodel.LdaModel(corpus, id2word=dictionary, update_every=1, chunksize=100, passes=2, num_topics=20)"
   ]
  },
  {
   "cell_type": "code",
   "execution_count": null,
   "metadata": {},
   "outputs": [],
   "source": [
    "model.save('plos_biology.lda_model')"
   ]
  },
  {
   "cell_type": "code",
   "execution_count": null,
   "metadata": {},
   "outputs": [],
   "source": [
    "model = gensim.models.ldamodel.LdaModel.load('plos_biology.lda_model')"
   ]
  },
  {
   "cell_type": "markdown",
   "metadata": {},
   "source": [
    "And these are the twenty topics we find in 1,754 PLOS Biology articles:"
   ]
  },
  {
   "cell_type": "code",
   "execution_count": null,
   "metadata": {},
   "outputs": [],
   "source": [
    "for topic_i, topic in enumerate(model.print_topics(20)):\n",
    "    print('topic # %d: %s\\n' % (topic_i+1, topic))"
   ]
  },
  {
   "cell_type": "markdown",
   "metadata": {},
   "source": [
    "## Topics with Lemmatized Tokens"
   ]
  },
  {
   "cell_type": "markdown",
   "metadata": {},
   "source": [
    "As we can notice, some of the tokens in the above topics are just singular and plural forms of the same word.\n",
    "\n",
    "Let us see what topics we find after lemmatizing all of our tokens."
   ]
  },
  {
   "cell_type": "code",
   "execution_count": null,
   "metadata": {},
   "outputs": [],
   "source": [
    "from nltk.stem import WordNetLemmatizer\n",
    "wnl = WordNetLemmatizer()\n",
    "articles_lemmatized = []\n",
    "for article in articles_unfurled:\n",
    "    articles_lemmatized.append([wnl.lemmatize(token) for token in article])"
   ]
  },
  {
   "cell_type": "code",
   "execution_count": null,
   "metadata": {},
   "outputs": [],
   "source": [
    "pickle.dump(articles_lemmatized, open('plos_biology_articles_lemmatized.list', 'w'))"
   ]
  },
  {
   "cell_type": "code",
   "execution_count": null,
   "metadata": {},
   "outputs": [],
   "source": [
    "dictionary_lemmatized = gensim.corpora.Dictionary(articles_lemmatized)"
   ]
  },
  {
   "cell_type": "code",
   "execution_count": null,
   "metadata": {},
   "outputs": [],
   "source": [
    "dictionary_lemmatized.save('plos_biology_lemmatized.dict')"
   ]
  },
  {
   "cell_type": "code",
   "execution_count": null,
   "metadata": {},
   "outputs": [],
   "source": [
    "dictionary_lemmatized.filter_extremes()"
   ]
  },
  {
   "cell_type": "code",
   "execution_count": null,
   "metadata": {},
   "outputs": [],
   "source": [
    "corpus_lemmatized = [dictionary_lemmatized.doc2bow(article) for article in articles_lemmatized]"
   ]
  },
  {
   "cell_type": "code",
   "execution_count": null,
   "metadata": {},
   "outputs": [],
   "source": [
    "gensim.corpora.MmCorpus.serialize('plos_biology_corpus_lemmatized.mm', corpus_lemmatized)"
   ]
  },
  {
   "cell_type": "code",
   "execution_count": null,
   "metadata": {},
   "outputs": [],
   "source": [
    "model_lemmatized = gensim.models.ldamodel.LdaModel(corpus_lemmatized, id2word=dictionary_lemmatized, update_every=1, chunksize=100, passes=2, num_topics=20)"
   ]
  },
  {
   "cell_type": "code",
   "execution_count": null,
   "metadata": {},
   "outputs": [],
   "source": [
    "for topic_i, topic in enumerate(model_lemmatized.print_topics(20)):\n",
    "    print('topic # %d: %s\\n' % (topic_i+1, topic))"
   ]
  }
 ],
 "metadata": {
  "kernelspec": {
   "display_name": "Python 3",
   "language": "python",
   "name": "python3"
  },
  "language_info": {
   "codemirror_mode": {
    "name": "ipython",
    "version": 3
   },
   "file_extension": ".py",
   "mimetype": "text/x-python",
   "name": "python",
   "nbconvert_exporter": "python",
   "pygments_lexer": "ipython3",
   "version": "3.8.1"
  }
 },
 "nbformat": 4,
 "nbformat_minor": 1
}
